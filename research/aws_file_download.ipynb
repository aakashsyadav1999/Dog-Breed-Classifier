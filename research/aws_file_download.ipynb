{
 "cells": [
  {
   "cell_type": "code",
   "execution_count": 10,
   "metadata": {},
   "outputs": [
    {
     "name": "stdout",
     "output_type": "stream",
     "text": [
      "Error downloading file: Unable to locate credentials\n"
     ]
    }
   ],
   "source": [
    "import boto3\n",
    "from dotenv import load_dotenv, find_dotenv\n",
    "import os\n",
    "\n",
    "# Load environment variables from .env file\n",
    "load_dotenv(find_dotenv())\n",
    "\n",
    "def download_file_from_s3(bucket_name, s3_key, local_path):\n",
    "    # Create an S3 client\n",
    "    s3 = boto3.client('s3')\n",
    "    try:\n",
    "        # Download the file\n",
    "        s3.download_file(bucket_name, s3_key, local_path)\n",
    "        print(f\"File downloaded successfully from {bucket_name}/{s3_key} to {local_path}\")\n",
    "    except Exception as e:\n",
    "        print(f\"Error downloading file: {e}\")\n",
    "\n",
    "# Example usage\n",
    "bucket_name = 'dog-breed-dataset'\n",
    "s3_key = 'dogImages.zip'  # Replace with the correct S3 object key\n",
    "local_path = os.path.join(os.getcwd(), 'data', 'dog_breed_dataset.zip')\n",
    "\n",
    "download_file_from_s3(bucket_name, s3_key, local_path)\n"
   ]
  },
  {
   "cell_type": "code",
   "execution_count": 2,
   "metadata": {},
   "outputs": [
    {
     "name": "stdout",
     "output_type": "stream",
     "text": [
      "s3.Bucket(name='dog-breed-dataset')\n",
      "File downloaded successfully to: d:\\VS code files\\dog_breed_classification_2\\data_2\n"
     ]
    }
   ],
   "source": [
    "import boto3\n",
    "import os\n",
    "\n",
    "\n",
    "BUCKET_NAME = 'dog-breed-dataset'\n",
    "\n",
    "# Replace these with your actual credentials\n",
    "aws_access_key_id = os.getenv('AWS_KEY')\n",
    "aws_secret_access_key = os.getenv('AWS_SECRET')\n",
    "region_name = 'us-east-2'  # e.g., 'us-east-1'\n",
    "\n",
    "# Create a session using your credentials\n",
    "session = boto3.Session(\n",
    "    aws_access_key_id=aws_access_key_id,\n",
    "    aws_secret_access_key=aws_secret_access_key,\n",
    "    region_name=region_name\n",
    ")\n",
    "\n",
    "# Create an S3 resource\n",
    "s3 = session.resource('s3')\n",
    "\n",
    "s3_file = session.client('s3')\n",
    "\n",
    "s3 = boto3.resource('s3',aws_access_key_id=os.getenv('AWS_KEY'),aws_secret_access_key=os.getenv('SECERT_KEY'))\n",
    "\n",
    "bucket_rep = s3.buckets.all()\n",
    "for buckets in bucket_rep:\n",
    "    print(buckets)\n",
    "\n",
    "# Get the parent directory (one level up from the current working directory)\n",
    "parent_directory = os.path.abspath(os.path.join(os.getcwd(), os.pardir))\n",
    "\n",
    "# Define the new directory path outside of the research directory\n",
    "download_directory = os.path.join(parent_directory, 'data_2')\n",
    "\n",
    "# Check if the directory exists, and if not, create it\n",
    "if not os.path.exists(download_directory):\n",
    "    os.makedirs(download_directory)\n",
    "\n",
    "# Download the file\n",
    "s3.Bucket(BUCKET_NAME).download_file('wine_quality.csv', os.path.join(download_directory, 'wine_data.csv'))\n",
    "\n",
    "print(\"File downloaded successfully to:\", download_directory)"
   ]
  },
  {
   "cell_type": "code",
   "execution_count": null,
   "metadata": {},
   "outputs": [],
   "source": []
  }
 ],
 "metadata": {
  "kernelspec": {
   "display_name": "venv",
   "language": "python",
   "name": "python3"
  },
  "language_info": {
   "codemirror_mode": {
    "name": "ipython",
    "version": 3
   },
   "file_extension": ".py",
   "mimetype": "text/x-python",
   "name": "python",
   "nbconvert_exporter": "python",
   "pygments_lexer": "ipython3",
   "version": "3.10.0"
  }
 },
 "nbformat": 4,
 "nbformat_minor": 2
}
